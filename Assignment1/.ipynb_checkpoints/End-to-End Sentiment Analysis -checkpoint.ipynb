{
 "cells": [
  {
   "cell_type": "markdown",
   "id": "ba97eb49-2d02-4ba0-9291-d0c06b62a647",
   "metadata": {},
   "source": [
    "STEP 1. **Data Collection**\n",
    "  -"
   ]
  },
  {
   "cell_type": "markdown",
   "id": "a3246ac8-bccc-43a4-9d44-c65907c9ae7b",
   "metadata": {},
   "source": [
    "1.\tObtain the data"
   ]
  },
  {
   "cell_type": "code",
   "execution_count": 1,
   "id": "1f1c247f-dc3b-44eb-987a-076f42fc8f32",
   "metadata": {},
   "outputs": [
    {
     "name": "stdout",
     "output_type": "stream",
     "text": [
      "                                              review sentiment\n",
      "0  One of the other reviewers has mentioned that ...  positive\n",
      "1  A wonderful little production. <br /><br />The...  positive\n",
      "2  I thought this was a wonderful way to spend ti...  positive\n",
      "3  Basically there's a family where a little boy ...  negative\n",
      "4  Petter Mattei's \"Love in the Time of Money\" is...  positive\n",
      "Dataset Shape: (50000, 2)\n",
      "Sentiment Counts:\n",
      " positive    25000\n",
      "negative    25000\n",
      "Name: sentiment, dtype: int64\n"
     ]
    }
   ],
   "source": [
    "import numpy as np\n",
    "import pandas as pd\n",
    "df=pd.read_csv('IMDB_Dataset[1].csv')\n",
    "df.columns = df.columns.str.strip().str.lower()\n",
    "print(df[['review', 'sentiment']].head())\n",
    "print(\"Dataset Shape:\", df.shape)\n",
    "print(\"Sentiment Counts:\\n\", df['sentiment'].value_counts())"
   ]
  },
  {
   "cell_type": "markdown",
   "id": "3d9de821-03a8-4f30-8eef-7a44efc87940",
   "metadata": {},
   "source": [
    "2.\tDatabase Setup"
   ]
  },
  {
   "cell_type": "code",
   "execution_count": 2,
   "id": "03e01ba1-484a-412d-a563-4eb34c47a537",
   "metadata": {},
   "outputs": [
    {
     "name": "stdout",
     "output_type": "stream",
     "text": [
      "✅ Data successfully stored in the database!\n"
     ]
    }
   ],
   "source": [
    "import sqlite3\n",
    "conn = sqlite3.connect(\"imdb_reviews.db\")\n",
    "cursor = conn.cursor()\n",
    "cursor.execute('''\n",
    "    CREATE TABLE IF NOT EXISTS imdb_reviews (\n",
    "        id INTEGER PRIMARY KEY AUTOINCREMENT,\n",
    "        review_text TEXT,\n",
    "        sentiment TEXT\n",
    "    )\n",
    "''')\n",
    "df[['review', 'sentiment']].to_sql('imdb_reviews', conn, if_exists='replace', index=False)\n",
    "conn.commit()\n",
    "conn.close()\n",
    "print(\"✅ Data successfully stored in the database!\")"
   ]
  },
  {
   "cell_type": "markdown",
   "id": "a46e6bc6-e429-4916-9d2e-d662aa2df94d",
   "metadata": {},
   "source": [
    "Step 2. **Data Cleaning & Exploration**\n",
    "-"
   ]
  },
  {
   "cell_type": "markdown",
   "id": "96093ecf-bf1f-49a4-8dbb-cbee7cb17c12",
   "metadata": {},
   "source": [
    "1.\tData Cleaning\n",
    "    - We will:\n",
    "    - ✅ Convert text to lowercase\n",
    "    - ✅ Remove HTML tags\n",
    "      \n",
    "    - ✅ Remove punctuation (optional)\n",
    "    - ✅ Remove duplicates"
   ]
  },
  {
   "cell_type": "code",
   "execution_count": 3,
   "id": "a8dc8c2f-665b-4ef0-aa48-b9928e553e33",
   "metadata": {},
   "outputs": [
    {
     "name": "stdout",
     "output_type": "stream",
     "text": [
      "Empty reviews after cleaning: 0\n"
     ]
    }
   ],
   "source": [
    "import re\n",
    "def clean_text(text):\n",
    "    if isinstance(text, str):\n",
    "        text = text.lower()  # Lowercasing\n",
    "        text = re.sub(r'<.*?>', '', text)  # Remove HTML tags\n",
    "        text = re.sub(r'[^a-zA-Z\\s]', '', text)  # Remove punctuation\n",
    "        text = re.sub(r'\\s+', ' ', text).strip()  # Remove extra spaces\n",
    "        return text\n",
    "    return \"\"\n",
    "df['cleaned_review'] = df['review'].apply(clean_text)\n",
    "print(\"Empty reviews after cleaning:\", (df['cleaned_review'] == \"\").sum())\n"
   ]
  },
  {
   "cell_type": "markdown",
   "id": "5090aeff-422d-4b0a-9d5c-bd5cb1c6a348",
   "metadata": {},
   "source": [
    "2.\tExploratory Data Analysis (EDA)"
   ]
  },
  {
   "cell_type": "markdown",
   "id": "8684cf79-f1b0-4e9a-af98-42796e6499f8",
   "metadata": {},
   "source": [
    "We will: \n",
    "- ✅ Check positive vs. negative review distribution\n",
    "- ✅ Calculate average review length\n",
    "- ✅ Visualize word frequency"
   ]
  },
  {
   "cell_type": "code",
   "execution_count": 4,
   "id": "093094fc-b8a2-48e3-95df-0594a7e37193",
   "metadata": {},
   "outputs": [
    {
     "data": {
      "image/png": "[encoded data removed]",
      "text/plain": [
       "<Figure size 640x480 with 1 Axes>"
      ]
     },
     "metadata": {},
     "output_type": "display_data"
    },
    {
     "name": "stdout",
     "output_type": "stream",
     "text": [
      "             count       mean         std   min    25%    50%    75%     max\n",
      "sentiment                                                                   \n",
      "negative   25000.0  223.26920  160.415679   4.0  125.0  170.0  270.0  1470.0\n",
      "positive   25000.0  227.11036  173.195201  10.0  122.0  168.0  276.0  2441.0\n"
     ]
    }
   ],
   "source": [
    "import matplotlib.pyplot as plt\n",
    "import seaborn as sns\n",
    "sns.countplot(x=df['sentiment'])\n",
    "plt.title(\"Sentiment Distribution\")\n",
    "plt.show()\n",
    "df['review_length'] = df['cleaned_review'].apply(lambda x: len(x.split()))\n",
    "print(df.groupby('sentiment')['review_length'].describe())"
   ]
  },
  {
   "cell_type": "code",
   "execution_count": 5,
   "id": "7b459779-0785-4a61-8e34-06ed663ea2c6",
   "metadata": {},
   "outputs": [
    {
     "name": "stdout",
     "output_type": "stream",
     "text": [
      "0\n",
      "0\n"
     ]
    }
   ],
   "source": [
    "print(df['sentiment'].isnull().sum())\n",
    "df = df.dropna(subset=['sentiment'])\n",
    "df['sentiment'] = df['sentiment'].map({'positive': 1, 'negative': 0})\n",
    "print(df['sentiment'].isnull().sum())"
   ]
  },
  {
   "cell_type": "markdown",
   "id": "4deb2163-911d-4f04-b59e-adecccbed23a",
   "metadata": {},
   "source": [
    " Step 4: Model Training\n",
    "-"
   ]
  },
  {
   "cell_type": "markdown",
   "id": "db9a07c8-b748-45bd-915b-b629e9d849ad",
   "metadata": {},
   "source": [
    "🔹 Step 4.1: Convert Text to Numerical Features\n",
    "Since machine learning models can’t process raw text, we will:\n",
    "- ✅ Convert reviews into TF-IDF vectors (Term Frequency-Inverse Document Frequency).\n",
    "- ✅ Split data into train and test sets."
   ]
  },
  {
   "cell_type": "code",
   "execution_count": 6,
   "id": "8bce2e6e-173f-45c8-ba14-b090a6d43bbd",
   "metadata": {},
   "outputs": [
    {
     "name": "stdout",
     "output_type": "stream",
     "text": [
      "✅ TF-IDF Vectorization Successful! Vocabulary size: 5000\n"
     ]
    }
   ],
   "source": [
    "from sklearn.feature_extraction.text import TfidfVectorizer\n",
    "vectorizer = TfidfVectorizer(max_features=5000, stop_words='english') \n",
    "X = vectorizer.fit_transform(df['cleaned_review'])\n",
    "print(\"✅ TF-IDF Vectorization Successful! Vocabulary size:\", len(vectorizer.get_feature_names_out()))\n"
   ]
  },
  {
   "cell_type": "markdown",
   "id": "def0a740-c82b-4601-a1b6-3dea7d3c0b99",
   "metadata": {},
   "source": [
    "🔹Step 4.2:\tTrain/Validation Split"
   ]
  },
  {
   "cell_type": "code",
   "execution_count": 7,
   "id": "27082bec-3568-4135-bf0e-0334b6169e18",
   "metadata": {},
   "outputs": [
    {
     "name": "stdout",
     "output_type": "stream",
     "text": [
      "✅ Data successfully split! Train size: (40000, 5000) Test size: (10000, 5000)\n"
     ]
    }
   ],
   "source": [
    "from sklearn.model_selection import train_test_split\n",
    "y = df['sentiment']\n",
    "X_train, X_test, y_train, y_test = train_test_split(X, y, test_size=0.2, random_state=42)\n",
    "print(\"✅ Data successfully split! Train size:\", X_train.shape, \"Test size:\", X_test.shape)"
   ]
  },
  {
   "cell_type": "markdown",
   "id": "003b9d2c-611e-4dd1-ab8c-8661416fe6c3",
   "metadata": {},
   "source": [
    "🔹Step 4.3: Training"
   ]
  },
  {
   "cell_type": "code",
   "execution_count": 8,
   "id": "212bbe8b-d4e6-48c9-87a5-4ca1775e288f",
   "metadata": {},
   "outputs": [
    {
     "name": "stdout",
     "output_type": "stream",
     "text": [
      "✅ Model Training Completed! Accuracy: 0.8833\n"
     ]
    }
   ],
   "source": [
    "from sklearn.linear_model import LogisticRegression\n",
    "from sklearn.metrics import accuracy_score, classification_report\n",
    "model = LogisticRegression()\n",
    "model.fit(X_train, y_train)\n",
    "y_pred = model.predict(X_test)\n",
    "accuracy = accuracy_score(y_test, y_pred)\n",
    "print(f\"✅ Model Training Completed! Accuracy: {accuracy:.4f}\")"
   ]
  },
  {
   "cell_type": "markdown",
   "id": "1a188f13-8e9f-4d48-88c8-83d1862dd77f",
   "metadata": {},
   "source": [
    "🔹Step 4.4: Evaluation"
   ]
  },
  {
   "cell_type": "code",
   "execution_count": 9,
   "id": "27ab0717-3e46-4b8b-871e-a1d1d0fcaabd",
   "metadata": {},
   "outputs": [
    {
     "name": "stdout",
     "output_type": "stream",
     "text": [
      "              precision    recall  f1-score   support\n",
      "\n",
      "           0       0.90      0.87      0.88      4961\n",
      "           1       0.87      0.90      0.89      5039\n",
      "\n",
      "    accuracy                           0.88     10000\n",
      "   macro avg       0.88      0.88      0.88     10000\n",
      "weighted avg       0.88      0.88      0.88     10000\n",
      "\n"
     ]
    }
   ],
   "source": [
    "report = classification_report(y_test, y_pred)\n",
    "print(report)"
   ]
  },
  {
   "cell_type": "markdown",
   "id": "03e2d1d5-2851-4ced-92fd-2ad152f3cfcb",
   "metadata": {},
   "source": [
    " Save the Model & Vectorizer\n",
    "-"
   ]
  },
  {
   "cell_type": "code",
   "execution_count": 10,
   "id": "bd73338d-4f33-4dcc-a346-173c78e2a23b",
   "metadata": {},
   "outputs": [
    {
     "name": "stdout",
     "output_type": "stream",
     "text": [
      "✅ Model and Vectorizer Saved Successfully!\n"
     ]
    }
   ],
   "source": [
    "import pickle\n",
    "with open(\"sentiment_model.pkl\", \"wb\") as model_file:\n",
    "    pickle.dump(model, model_file)\n",
    "with open(\"tfidf_vectorizer.pkl\", \"wb\") as vectorizer_file:\n",
    "    pickle.dump(vectorizer, vectorizer_file)\n",
    "print(\"✅ Model and Vectorizer Saved Successfully!\")"
   ]
  },
  {
   "cell_type": "markdown",
   "id": "9c624bab-1851-473f-bd5c-e5ba769ff601",
   "metadata": {},
   "source": [
    "Now, GO TO Python file (Flask_app.py) for the Flask API \n",
    "-"
   ]
  },
  {
   "cell_type": "code",
   "execution_count": 12,
   "id": "6f00863e-feb1-4061-925f-c40b720b0ce4",
   "metadata": {},
   "outputs": [
    {
     "name": "stdout",
     "output_type": "stream",
     "text": [
      "{'sentiment_prediction': 'negative'}\n"
     ]
    }
   ],
   "source": [
    "import requests\n",
    "\n",
    "url = \"http://127.0.0.1:5000/predict\"\n",
    "data = {\"review_text\": \"This movie was bad\"}\n",
    "\n",
    "response = requests.post(url, json=data)\n",
    "print(response.json()) \n"
   ]
  },
  {
   "cell_type": "code",
   "execution_count": null,
   "id": "1248c576-ba66-470c-97ce-9c11b16065ab",
   "metadata": {},
   "outputs": [],
   "source": []
  }
 ],
 "metadata": {
  "kernelspec": {
   "display_name": "Python 3 (ipykernel)",
   "language": "python",
   "name": "python3"
  },
  "language_info": {
   "codemirror_mode": {
    "name": "ipython",
    "version": 3
   },
   "file_extension": ".py",
   "mimetype": "text/x-python",
   "name": "python",
   "nbconvert_exporter": "python",
   "pygments_lexer": "ipython3",
   "version": "3.11.3"
  }
 },
 "nbformat": 4,
 "nbformat_minor": 5
}
